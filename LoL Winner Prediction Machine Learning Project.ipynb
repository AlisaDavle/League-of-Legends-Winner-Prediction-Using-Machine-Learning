{
 "cells": [
  {
   "cell_type": "markdown",
   "id": "b62af711-d45e-426d-9347-ae30eafa6c8d",
   "metadata": {},
   "source": [
    "# Project: Predicting the Winner of League of Legends Games"
   ]
  },
  {
   "cell_type": "markdown",
   "id": "df068772-e772-4c15-be98-c8e9c1cab288",
   "metadata": {},
   "source": [
    "Dataset Source: https://www.kaggle.com/datasets/datasnaek/league-of-legends\n",
    "Instructions: \n",
    "1. Download the dataset from the above link.\n",
    "2. Place the 'games.csv' file in the same directory as this notebook."
   ]
  },
  {
   "cell_type": "markdown",
   "id": "30b05ae9-bfd5-45ee-8fcb-e580f9953227",
   "metadata": {},
   "source": [
    "# Import necessary libraries"
   ]
  },
  {
   "cell_type": "code",
   "execution_count": 79,
   "id": "154d2f21-4eb3-4f7c-997b-030876b48097",
   "metadata": {},
   "outputs": [],
   "source": [
    "import pandas as pd\n",
    "import numpy as np\n",
    "from sklearn.model_selection import train_test_split\n",
    "from sklearn.ensemble import RandomForestClassifier\n",
    "from sklearn.metrics import classification_report, accuracy_score, confusion_matrix\n",
    "from sklearn.model_selection import GridSearchCV\n",
    "from sklearn.model_selection import cross_val_score\n",
    "from sklearn.linear_model import LogisticRegression\n",
    "from sklearn.svm import SVC\n",
    "import matplotlib.pyplot as plt\n",
    "import seaborn as sns\n",
    "import json"
   ]
  },
  {
   "cell_type": "markdown",
   "id": "6587d20f-206b-4990-bf70-52e065c1a687",
   "metadata": {
    "jp-MarkdownHeadingCollapsed": true
   },
   "source": [
    "# Load the dataset"
   ]
  },
  {
   "cell_type": "code",
   "execution_count": 6,
   "id": "0bdb1c70-3c5f-4264-93ff-4d0fb35aff68",
   "metadata": {},
   "outputs": [],
   "source": [
    "# We are loading the dataset into a pandas DataFrame for further analysis.\n",
    "df = pd.read_csv('games.csv')"
   ]
  },
  {
   "cell_type": "code",
   "execution_count": 7,
   "id": "a858ea05-1f23-4fa9-923f-dec2b434165d",
   "metadata": {},
   "outputs": [],
   "source": [
    "# Load the champion data for later use in mapping champion IDs to their names\n",
    "# This is a JSON file that contains metadata about champions.\n",
    "champ_data = json.load(open('champion_info.json'))"
   ]
  },
  {
   "cell_type": "markdown",
   "id": "ae506baf-1c1b-465c-82d5-fa8ab174e080",
   "metadata": {
    "jp-MarkdownHeadingCollapsed": true
   },
   "source": [
    "# Preview the dataset"
   ]
  },
  {
   "cell_type": "code",
   "execution_count": 9,
   "id": "8b74da80-a018-47bf-8d64-0f6fdc7e0480",
   "metadata": {},
   "outputs": [
    {
     "data": {
      "text/html": [
       "<div>\n",
       "<style scoped>\n",
       "    .dataframe tbody tr th:only-of-type {\n",
       "        vertical-align: middle;\n",
       "    }\n",
       "\n",
       "    .dataframe tbody tr th {\n",
       "        vertical-align: top;\n",
       "    }\n",
       "\n",
       "    .dataframe thead th {\n",
       "        text-align: right;\n",
       "    }\n",
       "</style>\n",
       "<table border=\"1\" class=\"dataframe\">\n",
       "  <thead>\n",
       "    <tr style=\"text-align: right;\">\n",
       "      <th></th>\n",
       "      <th>gameId</th>\n",
       "      <th>creationTime</th>\n",
       "      <th>gameDuration</th>\n",
       "      <th>seasonId</th>\n",
       "      <th>winner</th>\n",
       "      <th>firstBlood</th>\n",
       "      <th>firstTower</th>\n",
       "      <th>firstInhibitor</th>\n",
       "      <th>firstBaron</th>\n",
       "      <th>firstDragon</th>\n",
       "      <th>...</th>\n",
       "      <th>t2_towerKills</th>\n",
       "      <th>t2_inhibitorKills</th>\n",
       "      <th>t2_baronKills</th>\n",
       "      <th>t2_dragonKills</th>\n",
       "      <th>t2_riftHeraldKills</th>\n",
       "      <th>t2_ban1</th>\n",
       "      <th>t2_ban2</th>\n",
       "      <th>t2_ban3</th>\n",
       "      <th>t2_ban4</th>\n",
       "      <th>t2_ban5</th>\n",
       "    </tr>\n",
       "  </thead>\n",
       "  <tbody>\n",
       "    <tr>\n",
       "      <th>0</th>\n",
       "      <td>3326086514</td>\n",
       "      <td>1504279457970</td>\n",
       "      <td>1949</td>\n",
       "      <td>9</td>\n",
       "      <td>1</td>\n",
       "      <td>2</td>\n",
       "      <td>1</td>\n",
       "      <td>1</td>\n",
       "      <td>1</td>\n",
       "      <td>1</td>\n",
       "      <td>...</td>\n",
       "      <td>5</td>\n",
       "      <td>0</td>\n",
       "      <td>0</td>\n",
       "      <td>1</td>\n",
       "      <td>1</td>\n",
       "      <td>114</td>\n",
       "      <td>67</td>\n",
       "      <td>43</td>\n",
       "      <td>16</td>\n",
       "      <td>51</td>\n",
       "    </tr>\n",
       "    <tr>\n",
       "      <th>1</th>\n",
       "      <td>3229566029</td>\n",
       "      <td>1497848803862</td>\n",
       "      <td>1851</td>\n",
       "      <td>9</td>\n",
       "      <td>1</td>\n",
       "      <td>1</td>\n",
       "      <td>1</td>\n",
       "      <td>1</td>\n",
       "      <td>0</td>\n",
       "      <td>1</td>\n",
       "      <td>...</td>\n",
       "      <td>2</td>\n",
       "      <td>0</td>\n",
       "      <td>0</td>\n",
       "      <td>0</td>\n",
       "      <td>0</td>\n",
       "      <td>11</td>\n",
       "      <td>67</td>\n",
       "      <td>238</td>\n",
       "      <td>51</td>\n",
       "      <td>420</td>\n",
       "    </tr>\n",
       "    <tr>\n",
       "      <th>2</th>\n",
       "      <td>3327363504</td>\n",
       "      <td>1504360103310</td>\n",
       "      <td>1493</td>\n",
       "      <td>9</td>\n",
       "      <td>1</td>\n",
       "      <td>2</td>\n",
       "      <td>1</td>\n",
       "      <td>1</td>\n",
       "      <td>1</td>\n",
       "      <td>2</td>\n",
       "      <td>...</td>\n",
       "      <td>2</td>\n",
       "      <td>0</td>\n",
       "      <td>0</td>\n",
       "      <td>1</td>\n",
       "      <td>0</td>\n",
       "      <td>157</td>\n",
       "      <td>238</td>\n",
       "      <td>121</td>\n",
       "      <td>57</td>\n",
       "      <td>28</td>\n",
       "    </tr>\n",
       "    <tr>\n",
       "      <th>3</th>\n",
       "      <td>3326856598</td>\n",
       "      <td>1504348503996</td>\n",
       "      <td>1758</td>\n",
       "      <td>9</td>\n",
       "      <td>1</td>\n",
       "      <td>1</td>\n",
       "      <td>1</td>\n",
       "      <td>1</td>\n",
       "      <td>1</td>\n",
       "      <td>1</td>\n",
       "      <td>...</td>\n",
       "      <td>0</td>\n",
       "      <td>0</td>\n",
       "      <td>0</td>\n",
       "      <td>0</td>\n",
       "      <td>0</td>\n",
       "      <td>164</td>\n",
       "      <td>18</td>\n",
       "      <td>141</td>\n",
       "      <td>40</td>\n",
       "      <td>51</td>\n",
       "    </tr>\n",
       "    <tr>\n",
       "      <th>4</th>\n",
       "      <td>3330080762</td>\n",
       "      <td>1504554410899</td>\n",
       "      <td>2094</td>\n",
       "      <td>9</td>\n",
       "      <td>1</td>\n",
       "      <td>2</td>\n",
       "      <td>1</td>\n",
       "      <td>1</td>\n",
       "      <td>1</td>\n",
       "      <td>1</td>\n",
       "      <td>...</td>\n",
       "      <td>3</td>\n",
       "      <td>0</td>\n",
       "      <td>0</td>\n",
       "      <td>1</td>\n",
       "      <td>0</td>\n",
       "      <td>86</td>\n",
       "      <td>11</td>\n",
       "      <td>201</td>\n",
       "      <td>122</td>\n",
       "      <td>18</td>\n",
       "    </tr>\n",
       "  </tbody>\n",
       "</table>\n",
       "<p>5 rows × 61 columns</p>\n",
       "</div>"
      ],
      "text/plain": [
       "       gameId   creationTime  gameDuration  seasonId  winner  firstBlood  \\\n",
       "0  3326086514  1504279457970          1949         9       1           2   \n",
       "1  3229566029  1497848803862          1851         9       1           1   \n",
       "2  3327363504  1504360103310          1493         9       1           2   \n",
       "3  3326856598  1504348503996          1758         9       1           1   \n",
       "4  3330080762  1504554410899          2094         9       1           2   \n",
       "\n",
       "   firstTower  firstInhibitor  firstBaron  firstDragon  ...  t2_towerKills  \\\n",
       "0           1               1           1            1  ...              5   \n",
       "1           1               1           0            1  ...              2   \n",
       "2           1               1           1            2  ...              2   \n",
       "3           1               1           1            1  ...              0   \n",
       "4           1               1           1            1  ...              3   \n",
       "\n",
       "   t2_inhibitorKills  t2_baronKills  t2_dragonKills  t2_riftHeraldKills  \\\n",
       "0                  0              0               1                   1   \n",
       "1                  0              0               0                   0   \n",
       "2                  0              0               1                   0   \n",
       "3                  0              0               0                   0   \n",
       "4                  0              0               1                   0   \n",
       "\n",
       "   t2_ban1  t2_ban2  t2_ban3  t2_ban4  t2_ban5  \n",
       "0      114       67       43       16       51  \n",
       "1       11       67      238       51      420  \n",
       "2      157      238      121       57       28  \n",
       "3      164       18      141       40       51  \n",
       "4       86       11      201      122       18  \n",
       "\n",
       "[5 rows x 61 columns]"
      ]
     },
     "execution_count": 9,
     "metadata": {},
     "output_type": "execute_result"
    }
   ],
   "source": [
    "# Displaying the first few rows of the dataset to understand its structure and contents.\n",
    "df.head()"
   ]
  },
  {
   "cell_type": "code",
   "execution_count": 10,
   "id": "765a5e7a-6bc1-41f8-a294-745561e6ffe7",
   "metadata": {},
   "outputs": [
    {
     "name": "stdout",
     "output_type": "stream",
     "text": [
      "<class 'pandas.core.frame.DataFrame'>\n",
      "RangeIndex: 51490 entries, 0 to 51489\n",
      "Data columns (total 61 columns):\n",
      " #   Column              Non-Null Count  Dtype\n",
      "---  ------              --------------  -----\n",
      " 0   gameId              51490 non-null  int64\n",
      " 1   creationTime        51490 non-null  int64\n",
      " 2   gameDuration        51490 non-null  int64\n",
      " 3   seasonId            51490 non-null  int64\n",
      " 4   winner              51490 non-null  int64\n",
      " 5   firstBlood          51490 non-null  int64\n",
      " 6   firstTower          51490 non-null  int64\n",
      " 7   firstInhibitor      51490 non-null  int64\n",
      " 8   firstBaron          51490 non-null  int64\n",
      " 9   firstDragon         51490 non-null  int64\n",
      " 10  firstRiftHerald     51490 non-null  int64\n",
      " 11  t1_champ1id         51490 non-null  int64\n",
      " 12  t1_champ1_sum1      51490 non-null  int64\n",
      " 13  t1_champ1_sum2      51490 non-null  int64\n",
      " 14  t1_champ2id         51490 non-null  int64\n",
      " 15  t1_champ2_sum1      51490 non-null  int64\n",
      " 16  t1_champ2_sum2      51490 non-null  int64\n",
      " 17  t1_champ3id         51490 non-null  int64\n",
      " 18  t1_champ3_sum1      51490 non-null  int64\n",
      " 19  t1_champ3_sum2      51490 non-null  int64\n",
      " 20  t1_champ4id         51490 non-null  int64\n",
      " 21  t1_champ4_sum1      51490 non-null  int64\n",
      " 22  t1_champ4_sum2      51490 non-null  int64\n",
      " 23  t1_champ5id         51490 non-null  int64\n",
      " 24  t1_champ5_sum1      51490 non-null  int64\n",
      " 25  t1_champ5_sum2      51490 non-null  int64\n",
      " 26  t1_towerKills       51490 non-null  int64\n",
      " 27  t1_inhibitorKills   51490 non-null  int64\n",
      " 28  t1_baronKills       51490 non-null  int64\n",
      " 29  t1_dragonKills      51490 non-null  int64\n",
      " 30  t1_riftHeraldKills  51490 non-null  int64\n",
      " 31  t1_ban1             51490 non-null  int64\n",
      " 32  t1_ban2             51490 non-null  int64\n",
      " 33  t1_ban3             51490 non-null  int64\n",
      " 34  t1_ban4             51490 non-null  int64\n",
      " 35  t1_ban5             51490 non-null  int64\n",
      " 36  t2_champ1id         51490 non-null  int64\n",
      " 37  t2_champ1_sum1      51490 non-null  int64\n",
      " 38  t2_champ1_sum2      51490 non-null  int64\n",
      " 39  t2_champ2id         51490 non-null  int64\n",
      " 40  t2_champ2_sum1      51490 non-null  int64\n",
      " 41  t2_champ2_sum2      51490 non-null  int64\n",
      " 42  t2_champ3id         51490 non-null  int64\n",
      " 43  t2_champ3_sum1      51490 non-null  int64\n",
      " 44  t2_champ3_sum2      51490 non-null  int64\n",
      " 45  t2_champ4id         51490 non-null  int64\n",
      " 46  t2_champ4_sum1      51490 non-null  int64\n",
      " 47  t2_champ4_sum2      51490 non-null  int64\n",
      " 48  t2_champ5id         51490 non-null  int64\n",
      " 49  t2_champ5_sum1      51490 non-null  int64\n",
      " 50  t2_champ5_sum2      51490 non-null  int64\n",
      " 51  t2_towerKills       51490 non-null  int64\n",
      " 52  t2_inhibitorKills   51490 non-null  int64\n",
      " 53  t2_baronKills       51490 non-null  int64\n",
      " 54  t2_dragonKills      51490 non-null  int64\n",
      " 55  t2_riftHeraldKills  51490 non-null  int64\n",
      " 56  t2_ban1             51490 non-null  int64\n",
      " 57  t2_ban2             51490 non-null  int64\n",
      " 58  t2_ban3             51490 non-null  int64\n",
      " 59  t2_ban4             51490 non-null  int64\n",
      " 60  t2_ban5             51490 non-null  int64\n",
      "dtypes: int64(61)\n",
      "memory usage: 24.0 MB\n"
     ]
    }
   ],
   "source": [
    "# Checking the structure of the dataset\n",
    "df.info()"
   ]
  },
  {
   "cell_type": "markdown",
   "id": "3d9097a6-0acc-45ef-ad6d-5299daa0f881",
   "metadata": {
    "jp-MarkdownHeadingCollapsed": true
   },
   "source": [
    "# Data Cleaning"
   ]
  },
  {
   "cell_type": "code",
   "execution_count": 12,
   "id": "a673bf48-0d12-459a-81ae-0dbc657c8264",
   "metadata": {},
   "outputs": [],
   "source": [
    "# Checking for any duplicate rows and removing them\n",
    "df = df.drop_duplicates()"
   ]
  },
  {
   "cell_type": "code",
   "execution_count": 13,
   "id": "26597d6b-2d4c-46bd-a790-70edf0225a03",
   "metadata": {},
   "outputs": [
    {
     "data": {
      "text/plain": [
       "gameId          0\n",
       "creationTime    0\n",
       "gameDuration    0\n",
       "seasonId        0\n",
       "winner          0\n",
       "               ..\n",
       "t2_ban1         0\n",
       "t2_ban2         0\n",
       "t2_ban3         0\n",
       "t2_ban4         0\n",
       "t2_ban5         0\n",
       "Length: 61, dtype: int64"
      ]
     },
     "execution_count": 13,
     "metadata": {},
     "output_type": "execute_result"
    }
   ],
   "source": [
    "# Checking for missing values\n",
    "df.isnull().sum()"
   ]
  },
  {
   "cell_type": "markdown",
   "id": "2d43ec3f-74e9-4dcb-a4fe-80754059cd5a",
   "metadata": {
    "jp-MarkdownHeadingCollapsed": true
   },
   "source": [
    "# Data Transformation (Mapping Champion IDs to Champion Names)"
   ]
  },
  {
   "cell_type": "code",
   "execution_count": 15,
   "id": "fd2c0afb-5e61-4c8f-84a5-e4fc65c6b850",
   "metadata": {},
   "outputs": [
    {
     "data": {
      "text/html": [
       "<div>\n",
       "<style scoped>\n",
       "    .dataframe tbody tr th:only-of-type {\n",
       "        vertical-align: middle;\n",
       "    }\n",
       "\n",
       "    .dataframe tbody tr th {\n",
       "        vertical-align: top;\n",
       "    }\n",
       "\n",
       "    .dataframe thead th {\n",
       "        text-align: right;\n",
       "    }\n",
       "</style>\n",
       "<table border=\"1\" class=\"dataframe\">\n",
       "  <thead>\n",
       "    <tr style=\"text-align: right;\">\n",
       "      <th></th>\n",
       "      <th>gameId</th>\n",
       "      <th>creationTime</th>\n",
       "      <th>gameDuration</th>\n",
       "      <th>seasonId</th>\n",
       "      <th>winner</th>\n",
       "      <th>firstBlood</th>\n",
       "      <th>firstTower</th>\n",
       "      <th>firstInhibitor</th>\n",
       "      <th>firstBaron</th>\n",
       "      <th>firstDragon</th>\n",
       "      <th>...</th>\n",
       "      <th>t1_champ1</th>\n",
       "      <th>t1_champ2</th>\n",
       "      <th>t1_champ3</th>\n",
       "      <th>t1_champ4</th>\n",
       "      <th>t1_champ5</th>\n",
       "      <th>t2_champ1</th>\n",
       "      <th>t2_champ2</th>\n",
       "      <th>t2_champ3</th>\n",
       "      <th>t2_champ4</th>\n",
       "      <th>t2_champ5</th>\n",
       "    </tr>\n",
       "  </thead>\n",
       "  <tbody>\n",
       "    <tr>\n",
       "      <th>0</th>\n",
       "      <td>3326086514</td>\n",
       "      <td>1504279457970</td>\n",
       "      <td>1949</td>\n",
       "      <td>9</td>\n",
       "      <td>1</td>\n",
       "      <td>2</td>\n",
       "      <td>1</td>\n",
       "      <td>1</td>\n",
       "      <td>1</td>\n",
       "      <td>1</td>\n",
       "      <td>...</td>\n",
       "      <td>Vladimir</td>\n",
       "      <td>Bard</td>\n",
       "      <td>Kog'Maw</td>\n",
       "      <td>Master Yi</td>\n",
       "      <td>Viktor</td>\n",
       "      <td>Graves</td>\n",
       "      <td>Xayah</td>\n",
       "      <td>Darius</td>\n",
       "      <td>Zed</td>\n",
       "      <td>Thresh</td>\n",
       "    </tr>\n",
       "    <tr>\n",
       "      <th>1</th>\n",
       "      <td>3229566029</td>\n",
       "      <td>1497848803862</td>\n",
       "      <td>1851</td>\n",
       "      <td>9</td>\n",
       "      <td>1</td>\n",
       "      <td>1</td>\n",
       "      <td>1</td>\n",
       "      <td>1</td>\n",
       "      <td>0</td>\n",
       "      <td>1</td>\n",
       "      <td>...</td>\n",
       "      <td>Draven</td>\n",
       "      <td>Irelia</td>\n",
       "      <td>Nidalee</td>\n",
       "      <td>Kayle</td>\n",
       "      <td>Shaco</td>\n",
       "      <td>Malphite</td>\n",
       "      <td>Morgana</td>\n",
       "      <td>Hecarim</td>\n",
       "      <td>Yasuo</td>\n",
       "      <td>Riven</td>\n",
       "    </tr>\n",
       "    <tr>\n",
       "      <th>2</th>\n",
       "      <td>3327363504</td>\n",
       "      <td>1504360103310</td>\n",
       "      <td>1493</td>\n",
       "      <td>9</td>\n",
       "      <td>1</td>\n",
       "      <td>2</td>\n",
       "      <td>1</td>\n",
       "      <td>1</td>\n",
       "      <td>1</td>\n",
       "      <td>2</td>\n",
       "      <td>...</td>\n",
       "      <td>Tristana</td>\n",
       "      <td>Kayn</td>\n",
       "      <td>Nami</td>\n",
       "      <td>Rumble</td>\n",
       "      <td>Kassadin</td>\n",
       "      <td>Cassiopeia</td>\n",
       "      <td>Thresh</td>\n",
       "      <td>Jayce</td>\n",
       "      <td>Jax</td>\n",
       "      <td>Ashe</td>\n",
       "    </tr>\n",
       "    <tr>\n",
       "      <th>3</th>\n",
       "      <td>3326856598</td>\n",
       "      <td>1504348503996</td>\n",
       "      <td>1758</td>\n",
       "      <td>9</td>\n",
       "      <td>1</td>\n",
       "      <td>1</td>\n",
       "      <td>1</td>\n",
       "      <td>1</td>\n",
       "      <td>1</td>\n",
       "      <td>1</td>\n",
       "      <td>...</td>\n",
       "      <td>Maokai</td>\n",
       "      <td>Brand</td>\n",
       "      <td>Twitch</td>\n",
       "      <td>Orianna</td>\n",
       "      <td>Dr. Mundo</td>\n",
       "      <td>Malzahar</td>\n",
       "      <td>Warwick</td>\n",
       "      <td>Thresh</td>\n",
       "      <td>Riven</td>\n",
       "      <td>Ashe</td>\n",
       "    </tr>\n",
       "    <tr>\n",
       "      <th>4</th>\n",
       "      <td>3330080762</td>\n",
       "      <td>1504554410899</td>\n",
       "      <td>2094</td>\n",
       "      <td>9</td>\n",
       "      <td>1</td>\n",
       "      <td>2</td>\n",
       "      <td>1</td>\n",
       "      <td>1</td>\n",
       "      <td>1</td>\n",
       "      <td>1</td>\n",
       "      <td>...</td>\n",
       "      <td>Warwick</td>\n",
       "      <td>Twitch</td>\n",
       "      <td>Janna</td>\n",
       "      <td>Draven</td>\n",
       "      <td>Syndra</td>\n",
       "      <td>Sona</td>\n",
       "      <td>Jarvan IV</td>\n",
       "      <td>Kayn</td>\n",
       "      <td>Kassadin</td>\n",
       "      <td>Caitlyn</td>\n",
       "    </tr>\n",
       "  </tbody>\n",
       "</table>\n",
       "<p>5 rows × 71 columns</p>\n",
       "</div>"
      ],
      "text/plain": [
       "       gameId   creationTime  gameDuration  seasonId  winner  firstBlood  \\\n",
       "0  3326086514  1504279457970          1949         9       1           2   \n",
       "1  3229566029  1497848803862          1851         9       1           1   \n",
       "2  3327363504  1504360103310          1493         9       1           2   \n",
       "3  3326856598  1504348503996          1758         9       1           1   \n",
       "4  3330080762  1504554410899          2094         9       1           2   \n",
       "\n",
       "   firstTower  firstInhibitor  firstBaron  firstDragon  ...  t1_champ1  \\\n",
       "0           1               1           1            1  ...   Vladimir   \n",
       "1           1               1           0            1  ...     Draven   \n",
       "2           1               1           1            2  ...   Tristana   \n",
       "3           1               1           1            1  ...     Maokai   \n",
       "4           1               1           1            1  ...    Warwick   \n",
       "\n",
       "   t1_champ2  t1_champ3  t1_champ4  t1_champ5   t2_champ1  t2_champ2  \\\n",
       "0       Bard    Kog'Maw  Master Yi     Viktor      Graves      Xayah   \n",
       "1     Irelia    Nidalee      Kayle      Shaco    Malphite    Morgana   \n",
       "2       Kayn       Nami     Rumble   Kassadin  Cassiopeia     Thresh   \n",
       "3      Brand     Twitch    Orianna  Dr. Mundo    Malzahar    Warwick   \n",
       "4     Twitch      Janna     Draven     Syndra        Sona  Jarvan IV   \n",
       "\n",
       "   t2_champ3  t2_champ4  t2_champ5  \n",
       "0     Darius        Zed     Thresh  \n",
       "1    Hecarim      Yasuo      Riven  \n",
       "2      Jayce        Jax       Ashe  \n",
       "3     Thresh      Riven       Ashe  \n",
       "4       Kayn   Kassadin    Caitlyn  \n",
       "\n",
       "[5 rows x 71 columns]"
      ]
     },
     "execution_count": 15,
     "metadata": {},
     "output_type": "execute_result"
    }
   ],
   "source": [
    "# Map champion IDs to champion names for both teams\n",
    "# Each team has 5 champions represented by IDs. We map these IDs to their names using the JSON data.\n",
    "df.loc[:, 't1_champ1'] = df['t1_champ1id'].apply(lambda x: champ_data['data'][str(x)]['name'])\n",
    "df.loc[:, 't1_champ2'] = df['t1_champ2id'].apply(lambda x: champ_data['data'][str(x)]['name'])\n",
    "df.loc[:, 't1_champ3'] = df['t1_champ3id'].apply(lambda x: champ_data['data'][str(x)]['name'])\n",
    "df.loc[:, 't1_champ4'] = df['t1_champ4id'].apply(lambda x: champ_data['data'][str(x)]['name'])\n",
    "df.loc[:, 't1_champ5'] = df['t1_champ5id'].apply(lambda x: champ_data['data'][str(x)]['name'])\n",
    "\n",
    "df.loc[:, 't2_champ1'] = df['t2_champ1id'].apply(lambda x: champ_data['data'][str(x)]['name'])\n",
    "df.loc[:, 't2_champ2'] = df['t2_champ2id'].apply(lambda x: champ_data['data'][str(x)]['name'])\n",
    "df.loc[:, 't2_champ3'] = df['t2_champ3id'].apply(lambda x: champ_data['data'][str(x)]['name'])\n",
    "df.loc[:, 't2_champ4'] = df['t2_champ4id'].apply(lambda x: champ_data['data'][str(x)]['name'])\n",
    "df.loc[:, 't2_champ5'] = df['t2_champ5id'].apply(lambda x: champ_data['data'][str(x)]['name'])\n",
    "\n",
    "# Preview the updated dataset to ensure that champion names have been mapped correctly\n",
    "df.head()"
   ]
  },
  {
   "cell_type": "markdown",
   "id": "6f9f8e9e-f80e-47d4-a405-40ebafb49689",
   "metadata": {
    "jp-MarkdownHeadingCollapsed": true
   },
   "source": [
    "# Data Selection"
   ]
  },
  {
   "cell_type": "code",
   "execution_count": 17,
   "id": "3e32eee6-bb8a-4900-b183-9a3b40d511c2",
   "metadata": {},
   "outputs": [],
   "source": [
    "# Select relevant features for our model\n",
    "# We choose only the columns representing champion selections, game objectives, and the final winner.\n",
    "df = df[['t1_champ1', 't1_champ2', 't1_champ3', 't1_champ4', 't1_champ5', \n",
    "         't2_champ1', 't2_champ2', 't2_champ3', 't2_champ4', 't2_champ5', \n",
    "         'firstBlood', 'firstTower', 'firstInhibitor', 'firstBaron', 'firstDragon', \n",
    "         'firstRiftHerald', 'winner']]"
   ]
  },
  {
   "cell_type": "markdown",
   "id": "6507296d-ccfa-4ca1-85c5-6c7979878d1e",
   "metadata": {
    "jp-MarkdownHeadingCollapsed": true
   },
   "source": [
    "# One-Hot Encoding and Data Transformation"
   ]
  },
  {
   "cell_type": "code",
   "execution_count": 19,
   "id": "178de3a6-4ea7-4141-b696-2bed3ada9e13",
   "metadata": {},
   "outputs": [],
   "source": [
    "# One-hot encode the champion selections for both teams\n",
    "# This step converts categorical champion names into binary features. \n",
    "encodings1 = [pd.get_dummies(df[col], prefix='t1') for col in ['t1_champ1', 't1_champ2', 't1_champ3', 't1_champ4', 't1_champ5']]\n",
    "combined_df1 = sum(encodings1)\n",
    "\n",
    "encodings2 = [pd.get_dummies(df[col], prefix='t2') for col in ['t2_champ1', 't2_champ2', 't2_champ3', 't2_champ4', 't2_champ5']]\n",
    "combined_df2 = sum(encodings2)"
   ]
  },
  {
   "cell_type": "code",
   "execution_count": 20,
   "id": "f7112989-61e2-43ad-b51b-0694bbe4a957",
   "metadata": {},
   "outputs": [],
   "source": [
    "# Combine the one-hot encoded columns with the original dataframe\n",
    "df = df.join(combined_df1).join(combined_df2)"
   ]
  },
  {
   "cell_type": "code",
   "execution_count": 21,
   "id": "26fc9e27-fc2c-4897-a4cf-25a8a29debb1",
   "metadata": {},
   "outputs": [],
   "source": [
    "# Drop the original categorical champion columns as they have been transformed\n",
    "df = df.drop(['t1_champ1', 't1_champ2', 't1_champ3', 't1_champ4', 't1_champ5',\n",
    "              't2_champ1', 't2_champ2', 't2_champ3', 't2_champ4', 't2_champ5'], axis=1)"
   ]
  },
  {
   "cell_type": "markdown",
   "id": "14e5f29f-2bf1-4f78-9bee-7764e1de2669",
   "metadata": {
    "jp-MarkdownHeadingCollapsed": true
   },
   "source": [
    "# Data Splitting"
   ]
  },
  {
   "cell_type": "code",
   "execution_count": 23,
   "id": "209d0d92-c070-49e6-b3e2-bc2c3993b510",
   "metadata": {},
   "outputs": [],
   "source": [
    "# Splitting the data into features (X) and target (y)\n",
    "# We will predict the 'winner' column using the other features as predictors.\n",
    "X, y = df.drop('winner', axis=1), df['winner']"
   ]
  },
  {
   "cell_type": "code",
   "execution_count": 24,
   "id": "91803e3d-02b2-4c0f-b260-bbe1eeb1be93",
   "metadata": {},
   "outputs": [],
   "source": [
    "# This step splits the dataset into training and testing sets (70% train, 30% test) to evaluate model performance on unseen data.\n",
    "X_train, X_test, y_train, y_test = train_test_split(X, y, test_size=0.3, random_state=42)"
   ]
  },
  {
   "cell_type": "markdown",
   "id": "535e7bf7-90a2-46b6-914f-5ac24e0bf00f",
   "metadata": {},
   "source": [
    "# Hyperparameter Tuning"
   ]
  },
  {
   "cell_type": "code",
   "execution_count": 27,
   "id": "9703d446-ed7e-4494-a950-1396b306eccd",
   "metadata": {},
   "outputs": [],
   "source": [
    "# Define the parameter grid\n",
    "param_grid = {\n",
    "    'n_estimators': [100, 200, 300],\n",
    "    'max_depth': [None, 10, 20, 30],\n",
    "    'min_samples_split': [2, 5, 10]\n",
    "}"
   ]
  },
  {
   "cell_type": "code",
   "execution_count": 29,
   "id": "9114bfc6-1d4b-4c9c-8176-e57bfb4aa05f",
   "metadata": {},
   "outputs": [],
   "source": [
    "# Define the RandomForestClassifier\n",
    "rfc = RandomForestClassifier(n_jobs=-1)"
   ]
  },
  {
   "cell_type": "code",
   "execution_count": 33,
   "id": "7bcda0e6-eb7f-4a9b-b1bc-72bbeec4ac9e",
   "metadata": {},
   "outputs": [
    {
     "data": {
      "text/html": [
       "<style>#sk-container-id-1 {color: black;background-color: white;}#sk-container-id-1 pre{padding: 0;}#sk-container-id-1 div.sk-toggleable {background-color: white;}#sk-container-id-1 label.sk-toggleable__label {cursor: pointer;display: block;width: 100%;margin-bottom: 0;padding: 0.3em;box-sizing: border-box;text-align: center;}#sk-container-id-1 label.sk-toggleable__label-arrow:before {content: \"▸\";float: left;margin-right: 0.25em;color: #696969;}#sk-container-id-1 label.sk-toggleable__label-arrow:hover:before {color: black;}#sk-container-id-1 div.sk-estimator:hover label.sk-toggleable__label-arrow:before {color: black;}#sk-container-id-1 div.sk-toggleable__content {max-height: 0;max-width: 0;overflow: hidden;text-align: left;background-color: #f0f8ff;}#sk-container-id-1 div.sk-toggleable__content pre {margin: 0.2em;color: black;border-radius: 0.25em;background-color: #f0f8ff;}#sk-container-id-1 input.sk-toggleable__control:checked~div.sk-toggleable__content {max-height: 200px;max-width: 100%;overflow: auto;}#sk-container-id-1 input.sk-toggleable__control:checked~label.sk-toggleable__label-arrow:before {content: \"▾\";}#sk-container-id-1 div.sk-estimator input.sk-toggleable__control:checked~label.sk-toggleable__label {background-color: #d4ebff;}#sk-container-id-1 div.sk-label input.sk-toggleable__control:checked~label.sk-toggleable__label {background-color: #d4ebff;}#sk-container-id-1 input.sk-hidden--visually {border: 0;clip: rect(1px 1px 1px 1px);clip: rect(1px, 1px, 1px, 1px);height: 1px;margin: -1px;overflow: hidden;padding: 0;position: absolute;width: 1px;}#sk-container-id-1 div.sk-estimator {font-family: monospace;background-color: #f0f8ff;border: 1px dotted black;border-radius: 0.25em;box-sizing: border-box;margin-bottom: 0.5em;}#sk-container-id-1 div.sk-estimator:hover {background-color: #d4ebff;}#sk-container-id-1 div.sk-parallel-item::after {content: \"\";width: 100%;border-bottom: 1px solid gray;flex-grow: 1;}#sk-container-id-1 div.sk-label:hover label.sk-toggleable__label {background-color: #d4ebff;}#sk-container-id-1 div.sk-serial::before {content: \"\";position: absolute;border-left: 1px solid gray;box-sizing: border-box;top: 0;bottom: 0;left: 50%;z-index: 0;}#sk-container-id-1 div.sk-serial {display: flex;flex-direction: column;align-items: center;background-color: white;padding-right: 0.2em;padding-left: 0.2em;position: relative;}#sk-container-id-1 div.sk-item {position: relative;z-index: 1;}#sk-container-id-1 div.sk-parallel {display: flex;align-items: stretch;justify-content: center;background-color: white;position: relative;}#sk-container-id-1 div.sk-item::before, #sk-container-id-1 div.sk-parallel-item::before {content: \"\";position: absolute;border-left: 1px solid gray;box-sizing: border-box;top: 0;bottom: 0;left: 50%;z-index: -1;}#sk-container-id-1 div.sk-parallel-item {display: flex;flex-direction: column;z-index: 1;position: relative;background-color: white;}#sk-container-id-1 div.sk-parallel-item:first-child::after {align-self: flex-end;width: 50%;}#sk-container-id-1 div.sk-parallel-item:last-child::after {align-self: flex-start;width: 50%;}#sk-container-id-1 div.sk-parallel-item:only-child::after {width: 0;}#sk-container-id-1 div.sk-dashed-wrapped {border: 1px dashed gray;margin: 0 0.4em 0.5em 0.4em;box-sizing: border-box;padding-bottom: 0.4em;background-color: white;}#sk-container-id-1 div.sk-label label {font-family: monospace;font-weight: bold;display: inline-block;line-height: 1.2em;}#sk-container-id-1 div.sk-label-container {text-align: center;}#sk-container-id-1 div.sk-container {/* jupyter's `normalize.less` sets `[hidden] { display: none; }` but bootstrap.min.css set `[hidden] { display: none !important; }` so we also need the `!important` here to be able to override the default hidden behavior on the sphinx rendered scikit-learn.org. See: https://github.com/scikit-learn/scikit-learn/issues/21755 */display: inline-block !important;position: relative;}#sk-container-id-1 div.sk-text-repr-fallback {display: none;}</style><div id=\"sk-container-id-1\" class=\"sk-top-container\"><div class=\"sk-text-repr-fallback\"><pre>GridSearchCV(cv=3, estimator=RandomForestClassifier(n_jobs=-1), n_jobs=-1,\n",
       "             param_grid={&#x27;max_depth&#x27;: [None, 10, 20, 30],\n",
       "                         &#x27;min_samples_split&#x27;: [2, 5, 10],\n",
       "                         &#x27;n_estimators&#x27;: [100, 200, 300]})</pre><b>In a Jupyter environment, please rerun this cell to show the HTML representation or trust the notebook. <br />On GitHub, the HTML representation is unable to render, please try loading this page with nbviewer.org.</b></div><div class=\"sk-container\" hidden><div class=\"sk-item sk-dashed-wrapped\"><div class=\"sk-label-container\"><div class=\"sk-label sk-toggleable\"><input class=\"sk-toggleable__control sk-hidden--visually\" id=\"sk-estimator-id-1\" type=\"checkbox\" ><label for=\"sk-estimator-id-1\" class=\"sk-toggleable__label sk-toggleable__label-arrow\">GridSearchCV</label><div class=\"sk-toggleable__content\"><pre>GridSearchCV(cv=3, estimator=RandomForestClassifier(n_jobs=-1), n_jobs=-1,\n",
       "             param_grid={&#x27;max_depth&#x27;: [None, 10, 20, 30],\n",
       "                         &#x27;min_samples_split&#x27;: [2, 5, 10],\n",
       "                         &#x27;n_estimators&#x27;: [100, 200, 300]})</pre></div></div></div><div class=\"sk-parallel\"><div class=\"sk-parallel-item\"><div class=\"sk-item\"><div class=\"sk-label-container\"><div class=\"sk-label sk-toggleable\"><input class=\"sk-toggleable__control sk-hidden--visually\" id=\"sk-estimator-id-2\" type=\"checkbox\" ><label for=\"sk-estimator-id-2\" class=\"sk-toggleable__label sk-toggleable__label-arrow\">estimator: RandomForestClassifier</label><div class=\"sk-toggleable__content\"><pre>RandomForestClassifier(n_jobs=-1)</pre></div></div></div><div class=\"sk-serial\"><div class=\"sk-item\"><div class=\"sk-estimator sk-toggleable\"><input class=\"sk-toggleable__control sk-hidden--visually\" id=\"sk-estimator-id-3\" type=\"checkbox\" ><label for=\"sk-estimator-id-3\" class=\"sk-toggleable__label sk-toggleable__label-arrow\">RandomForestClassifier</label><div class=\"sk-toggleable__content\"><pre>RandomForestClassifier(n_jobs=-1)</pre></div></div></div></div></div></div></div></div></div></div>"
      ],
      "text/plain": [
       "GridSearchCV(cv=3, estimator=RandomForestClassifier(n_jobs=-1), n_jobs=-1,\n",
       "             param_grid={'max_depth': [None, 10, 20, 30],\n",
       "                         'min_samples_split': [2, 5, 10],\n",
       "                         'n_estimators': [100, 200, 300]})"
      ]
     },
     "execution_count": 33,
     "metadata": {},
     "output_type": "execute_result"
    }
   ],
   "source": [
    "# Perform grid search\n",
    "grid_search = GridSearchCV(estimator=rfc, param_grid=param_grid, cv=3, n_jobs=-1)\n",
    "grid_search.fit(X_train, y_train)"
   ]
  },
  {
   "cell_type": "code",
   "execution_count": 48,
   "id": "89e60d52-6701-4652-b03f-8573bfe8bbe4",
   "metadata": {},
   "outputs": [],
   "source": [
    "# Get the best model from GridSearchCV\n",
    "best_rfc = grid_search.best_estimator_"
   ]
  },
  {
   "cell_type": "code",
   "execution_count": 35,
   "id": "5a6bfe3f-94ca-4979-ab90-62a3f2103730",
   "metadata": {},
   "outputs": [
    {
     "name": "stdout",
     "output_type": "stream",
     "text": [
      "Best parameters: {'max_depth': None, 'min_samples_split': 10, 'n_estimators': 200}\n"
     ]
    }
   ],
   "source": [
    "print(f\"Best parameters: {grid_search.best_params_}\")"
   ]
  },
  {
   "cell_type": "markdown",
   "id": "b3f1fb27-bfee-48c4-bd1e-0545d07d6d39",
   "metadata": {},
   "source": [
    "# Cross-Validation"
   ]
  },
  {
   "cell_type": "code",
   "execution_count": 50,
   "id": "45d5fce9-4683-49dc-b506-6cff1c348bd0",
   "metadata": {},
   "outputs": [
    {
     "name": "stdout",
     "output_type": "stream",
     "text": [
      "Cross-validation scores: [0.89844286 0.89697385 0.89942219 0.8927522  0.89784525]\n",
      "Average CV score: 0.8970872705406615\n"
     ]
    }
   ],
   "source": [
    "# Evaluate the model's robustness across different splits of the data.\n",
    "cv_scores = cross_val_score(best_rfc, X, y, cv=5)\n",
    "print(f\"Cross-validation scores: {cv_scores}\")\n",
    "print(f\"Average CV score: {cv_scores.mean()}\")"
   ]
  },
  {
   "cell_type": "markdown",
   "id": "9c6c0270-10a9-48ee-822a-4358abaeb6bd",
   "metadata": {},
   "source": [
    "# Model Training"
   ]
  },
  {
   "cell_type": "code",
   "execution_count": 52,
   "id": "8ccb45e3-2db3-4fed-ae7f-4fe8becd7789",
   "metadata": {},
   "outputs": [
    {
     "data": {
      "text/html": [
       "<style>#sk-container-id-2 {color: black;background-color: white;}#sk-container-id-2 pre{padding: 0;}#sk-container-id-2 div.sk-toggleable {background-color: white;}#sk-container-id-2 label.sk-toggleable__label {cursor: pointer;display: block;width: 100%;margin-bottom: 0;padding: 0.3em;box-sizing: border-box;text-align: center;}#sk-container-id-2 label.sk-toggleable__label-arrow:before {content: \"▸\";float: left;margin-right: 0.25em;color: #696969;}#sk-container-id-2 label.sk-toggleable__label-arrow:hover:before {color: black;}#sk-container-id-2 div.sk-estimator:hover label.sk-toggleable__label-arrow:before {color: black;}#sk-container-id-2 div.sk-toggleable__content {max-height: 0;max-width: 0;overflow: hidden;text-align: left;background-color: #f0f8ff;}#sk-container-id-2 div.sk-toggleable__content pre {margin: 0.2em;color: black;border-radius: 0.25em;background-color: #f0f8ff;}#sk-container-id-2 input.sk-toggleable__control:checked~div.sk-toggleable__content {max-height: 200px;max-width: 100%;overflow: auto;}#sk-container-id-2 input.sk-toggleable__control:checked~label.sk-toggleable__label-arrow:before {content: \"▾\";}#sk-container-id-2 div.sk-estimator input.sk-toggleable__control:checked~label.sk-toggleable__label {background-color: #d4ebff;}#sk-container-id-2 div.sk-label input.sk-toggleable__control:checked~label.sk-toggleable__label {background-color: #d4ebff;}#sk-container-id-2 input.sk-hidden--visually {border: 0;clip: rect(1px 1px 1px 1px);clip: rect(1px, 1px, 1px, 1px);height: 1px;margin: -1px;overflow: hidden;padding: 0;position: absolute;width: 1px;}#sk-container-id-2 div.sk-estimator {font-family: monospace;background-color: #f0f8ff;border: 1px dotted black;border-radius: 0.25em;box-sizing: border-box;margin-bottom: 0.5em;}#sk-container-id-2 div.sk-estimator:hover {background-color: #d4ebff;}#sk-container-id-2 div.sk-parallel-item::after {content: \"\";width: 100%;border-bottom: 1px solid gray;flex-grow: 1;}#sk-container-id-2 div.sk-label:hover label.sk-toggleable__label {background-color: #d4ebff;}#sk-container-id-2 div.sk-serial::before {content: \"\";position: absolute;border-left: 1px solid gray;box-sizing: border-box;top: 0;bottom: 0;left: 50%;z-index: 0;}#sk-container-id-2 div.sk-serial {display: flex;flex-direction: column;align-items: center;background-color: white;padding-right: 0.2em;padding-left: 0.2em;position: relative;}#sk-container-id-2 div.sk-item {position: relative;z-index: 1;}#sk-container-id-2 div.sk-parallel {display: flex;align-items: stretch;justify-content: center;background-color: white;position: relative;}#sk-container-id-2 div.sk-item::before, #sk-container-id-2 div.sk-parallel-item::before {content: \"\";position: absolute;border-left: 1px solid gray;box-sizing: border-box;top: 0;bottom: 0;left: 50%;z-index: -1;}#sk-container-id-2 div.sk-parallel-item {display: flex;flex-direction: column;z-index: 1;position: relative;background-color: white;}#sk-container-id-2 div.sk-parallel-item:first-child::after {align-self: flex-end;width: 50%;}#sk-container-id-2 div.sk-parallel-item:last-child::after {align-self: flex-start;width: 50%;}#sk-container-id-2 div.sk-parallel-item:only-child::after {width: 0;}#sk-container-id-2 div.sk-dashed-wrapped {border: 1px dashed gray;margin: 0 0.4em 0.5em 0.4em;box-sizing: border-box;padding-bottom: 0.4em;background-color: white;}#sk-container-id-2 div.sk-label label {font-family: monospace;font-weight: bold;display: inline-block;line-height: 1.2em;}#sk-container-id-2 div.sk-label-container {text-align: center;}#sk-container-id-2 div.sk-container {/* jupyter's `normalize.less` sets `[hidden] { display: none; }` but bootstrap.min.css set `[hidden] { display: none !important; }` so we also need the `!important` here to be able to override the default hidden behavior on the sphinx rendered scikit-learn.org. See: https://github.com/scikit-learn/scikit-learn/issues/21755 */display: inline-block !important;position: relative;}#sk-container-id-2 div.sk-text-repr-fallback {display: none;}</style><div id=\"sk-container-id-2\" class=\"sk-top-container\"><div class=\"sk-text-repr-fallback\"><pre>RandomForestClassifier(min_samples_split=10, n_estimators=200, n_jobs=-1)</pre><b>In a Jupyter environment, please rerun this cell to show the HTML representation or trust the notebook. <br />On GitHub, the HTML representation is unable to render, please try loading this page with nbviewer.org.</b></div><div class=\"sk-container\" hidden><div class=\"sk-item\"><div class=\"sk-estimator sk-toggleable\"><input class=\"sk-toggleable__control sk-hidden--visually\" id=\"sk-estimator-id-4\" type=\"checkbox\" checked><label for=\"sk-estimator-id-4\" class=\"sk-toggleable__label sk-toggleable__label-arrow\">RandomForestClassifier</label><div class=\"sk-toggleable__content\"><pre>RandomForestClassifier(min_samples_split=10, n_estimators=200, n_jobs=-1)</pre></div></div></div></div></div>"
      ],
      "text/plain": [
       "RandomForestClassifier(min_samples_split=10, n_estimators=200, n_jobs=-1)"
      ]
     },
     "execution_count": 52,
     "metadata": {},
     "output_type": "execute_result"
    }
   ],
   "source": [
    "# Fit the best model on the training data\n",
    "best_rfc.fit(X_train, y_train)"
   ]
  },
  {
   "cell_type": "markdown",
   "id": "f3e4c048-a2d9-40fc-987f-cc86f75a0e23",
   "metadata": {},
   "source": [
    "# Model Evaluation and Performance Metrics"
   ]
  },
  {
   "cell_type": "code",
   "execution_count": 54,
   "id": "1cffbc65-3f33-41a4-be03-d759649d1c12",
   "metadata": {},
   "outputs": [
    {
     "name": "stdout",
     "output_type": "stream",
     "text": [
      "Tuned Random Forest Accuracy: 89.60%\n"
     ]
    }
   ],
   "source": [
    "# Evaluate the model on the test set to check its accuracy in predicting game outcomes.\n",
    "accuracy = best_rfc.score(X_test, y_test)\n",
    "print(f\"Tuned Random Forest Accuracy: {accuracy * 100:.2f}%\")"
   ]
  },
  {
   "cell_type": "code",
   "execution_count": 55,
   "id": "0d4b88a5-4acd-495a-b4cc-bf87e8f8ba5b",
   "metadata": {},
   "outputs": [
    {
     "name": "stdout",
     "output_type": "stream",
     "text": [
      "              precision    recall  f1-score   support\n",
      "\n",
      "           1       0.89      0.91      0.90      7792\n",
      "           2       0.90      0.88      0.89      7524\n",
      "\n",
      "    accuracy                           0.90     15316\n",
      "   macro avg       0.90      0.90      0.90     15316\n",
      "weighted avg       0.90      0.90      0.90     15316\n",
      "\n"
     ]
    }
   ],
   "source": [
    "# Evaluating the model using additional performance metrics like precision, recall, and F1 score.\n",
    "# classification_report gives a detailed breakdown of these metrics.\n",
    "y_pred = best_rfc.predict(X_test)\n",
    "print(classification_report(y_test, y_pred))"
   ]
  },
  {
   "cell_type": "code",
   "execution_count": 56,
   "id": "a395c259-958e-4fe2-9d68-7ccd51b72406",
   "metadata": {},
   "outputs": [],
   "source": [
    "# Confusion Matrix\n",
    "cm = confusion_matrix(y_test, y_pred)"
   ]
  },
  {
   "cell_type": "code",
   "execution_count": 57,
   "id": "94cc05e0-e490-4b24-8f43-6347e8c20b81",
   "metadata": {},
   "outputs": [
    {
     "name": "stdout",
     "output_type": "stream",
     "text": [
      "Confusion Matrix:\n",
      "[[7082  710]\n",
      " [ 883 6641]]\n"
     ]
    }
   ],
   "source": [
    "print(\"Confusion Matrix:\")\n",
    "print(cm)"
   ]
  },
  {
   "cell_type": "markdown",
   "id": "165f82aa-3c65-46d4-9a89-54a76538624e",
   "metadata": {},
   "source": [
    "# Feature Importance Analysis\n",
    "Analyze which features (e.g., champion picks, game objectives) are most important for the model’s predictions."
   ]
  },
  {
   "cell_type": "code",
   "execution_count": 73,
   "id": "e7463d82-e836-4912-9135-73386caf0ecb",
   "metadata": {},
   "outputs": [],
   "source": [
    "# Feature Importance Analysis (Top 6)\n",
    "feature_importances = pd.Series(best_rfc.feature_importances_, index=X.columns)"
   ]
  },
  {
   "cell_type": "code",
   "execution_count": 75,
   "id": "a383ca9b-fc64-47a4-a7fb-9d85a5a7e05d",
   "metadata": {},
   "outputs": [],
   "source": [
    "# Sort the features by importance and select the top 6\n",
    "top_features = feature_importances.sort_values(ascending=False).head(6)"
   ]
  },
  {
   "cell_type": "code",
   "execution_count": 77,
   "id": "6c235117-b1df-4c36-85e0-870886897240",
   "metadata": {},
   "outputs": [
    {
     "data": {
      "image/png": "[encoded data removed]",
      "text/plain": [
       "<Figure size 1000x600 with 1 Axes>"
      ]
     },
     "metadata": {},
     "output_type": "display_data"
    }
   ],
   "source": [
    "# Plot the top 6 features\n",
    "top_features.plot(kind='bar', figsize=(10,6))\n",
    "plt.title('Top 6 Feature Importance')\n",
    "plt.xlabel('Features')\n",
    "plt.ylabel('Importance Score')\n",
    "plt.show()"
   ]
  }
 ],
 "metadata": {
  "kernelspec": {
   "display_name": "Python 3 (ipykernel)",
   "language": "python",
   "name": "python3"
  },
  "language_info": {
   "codemirror_mode": {
    "name": "ipython",
    "version": 3
   },
   "file_extension": ".py",
   "mimetype": "text/x-python",
   "name": "python",
   "nbconvert_exporter": "python",
   "pygments_lexer": "ipython3",
   "version": "3.11.7"
  }
 },
 "nbformat": 4,
 "nbformat_minor": 5
}
